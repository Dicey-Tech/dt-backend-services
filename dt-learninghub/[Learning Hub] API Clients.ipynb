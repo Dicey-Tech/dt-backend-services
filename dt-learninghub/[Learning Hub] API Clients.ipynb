{
 "cells": [
  {
   "cell_type": "code",
   "execution_count": 16,
   "id": "0a7a6bb1",
   "metadata": {},
   "outputs": [
    {
     "name": "stdout",
     "output_type": "stream",
     "text": [
      "2021-12-13 11:02:55,588 DEBUG 122 [urllib3.connectionpool] [user None] [ip None] connectionpool.py:227 - Starting new HTTP connection (1): local.overhang.io:8000\n",
      "2021-12-13 11:02:58,261 DEBUG 122 [urllib3.connectionpool] [user None] [ip None] connectionpool.py:452 - http://local.overhang.io:8000 \"POST /oauth2/access_token HTTP/1.1\" 200 795\n",
      "2021-12-13 11:02:58,268 DEBUG 122 [urllib3.connectionpool] [user None] [ip None] connectionpool.py:227 - Starting new HTTP connection (1): lms:8000\n",
      "2021-12-13 11:03:03,970 DEBUG 122 [urllib3.connectionpool] [user None] [ip None] connectionpool.py:452 - http://lms:8000 \"POST /api/bulk_enroll/v1/bulk_enroll/ HTTP/1.1\" 200 353\n"
     ]
    }
   ],
   "source": [
    "from classrooms.apps.api_client.base_oauth import BaseOAuthClient\n",
    "from classrooms.apps.api_client.constants import LMS_BULK_ENROLLMENT_ENDPOINT\n",
    "\n",
    "client = BaseOAuthClient()\n",
    "\n",
    "data = {\n",
    "        \"auto_enroll\": True,\n",
    "        \"email_students\": \"no\",\n",
    "        \"action\": \"unenroll\",\n",
    "        \"courses\": \"course-v1:DiceyTech+EXP003+20211108095920482685\",\n",
    "        \"identifiers\": \"dev\",\n",
    "    }\n",
    "\n",
    "response = client.client.post(LMS_BULK_ENROLLMENT_ENDPOINT, json=data)\n",
    "\n",
    "response.content"
   ]
  },
  {
   "cell_type": "code",
   "execution_count": 1,
   "id": "63af0112",
   "metadata": {},
   "outputs": [
    {
     "name": "stdout",
     "output_type": "stream",
     "text": [
      "2021-12-23 18:05:31,822 DEBUG 24 [urllib3.connectionpool] [user None] [ip None] connectionpool.py:227 - Starting new HTTP connection (1): lms:8000\n",
      "2021-12-23 18:05:36,102 DEBUG 24 [urllib3.connectionpool] [user None] [ip None] connectionpool.py:452 - http://lms:8000 \"GET /enterprise/api/v1/enterprise-learner/?uuid=35d98c64-842a-49a7-a1f4-8e5d090b57f5 HTTP/1.1\" 200 2940\n"
     ]
    },
    {
     "data": {
      "text/plain": [
       "[{'id': 2,\n",
       "  'enterprise_customer': {'uuid': '35d98c64-842a-49a7-a1f4-8e5d090b57f5',\n",
       "   'name': 'Dicey Tech',\n",
       "   'slug': 'diceytech',\n",
       "   'active': True,\n",
       "   'site': {'domain': 'local.overhang.io', 'name': 'local.overhang.io'},\n",
       "   'enable_data_sharing_consent': False,\n",
       "   'enforce_data_sharing_consent': 'at_enrollment',\n",
       "   'branding_configuration': {'enterprise_customer': '35d98c64-842a-49a7-a1f4-8e5d090b57f5',\n",
       "    'enterprise_slug': 'diceytech',\n",
       "    'logo': 'https://github.com/Dicey-Tech/brand-diceytech/raw/master/logo.svg',\n",
       "    'primary_color': '#00262B',\n",
       "    'secondary_color': '#EFF8FA',\n",
       "    'tertiary_color': '#0A7DA3'},\n",
       "   'identity_provider': None,\n",
       "   'enable_audit_enrollment': False,\n",
       "   'replace_sensitive_sso_username': False,\n",
       "   'enable_portal_code_management_screen': False,\n",
       "   'sync_learner_profile_data': False,\n",
       "   'enable_audit_data_reporting': False,\n",
       "   'enable_learner_portal': False,\n",
       "   'enable_portal_reporting_config_screen': False,\n",
       "   'enable_portal_saml_configuration_screen': False,\n",
       "   'contact_email': None,\n",
       "   'enable_portal_subscription_management_screen': False,\n",
       "   'hide_course_original_price': False,\n",
       "   'enable_analytics_screen': False,\n",
       "   'enable_integrated_customer_learner_portal_search': True,\n",
       "   'enable_portal_lms_configurations_screen': False,\n",
       "   'sender_alias': None,\n",
       "   'identity_providers': []},\n",
       "  'active': True,\n",
       "  'user_id': 3,\n",
       "  'user': {'id': 3,\n",
       "   'username': 'dev',\n",
       "   'first_name': '',\n",
       "   'last_name': '',\n",
       "   'email': 'dev@dev.com',\n",
       "   'is_staff': True,\n",
       "   'is_active': True,\n",
       "   'date_joined': '2020-12-28T10:51:29.803347Z'},\n",
       "  'data_sharing_consent_records': [],\n",
       "  'groups': []},\n",
       " {'id': 1,\n",
       "  'enterprise_customer': {'uuid': '35d98c64-842a-49a7-a1f4-8e5d090b57f5',\n",
       "   'name': 'Dicey Tech',\n",
       "   'slug': 'diceytech',\n",
       "   'active': True,\n",
       "   'site': {'domain': 'local.overhang.io', 'name': 'local.overhang.io'},\n",
       "   'enable_data_sharing_consent': False,\n",
       "   'enforce_data_sharing_consent': 'at_enrollment',\n",
       "   'branding_configuration': {'enterprise_customer': '35d98c64-842a-49a7-a1f4-8e5d090b57f5',\n",
       "    'enterprise_slug': 'diceytech',\n",
       "    'logo': 'https://github.com/Dicey-Tech/brand-diceytech/raw/master/logo.svg',\n",
       "    'primary_color': '#00262B',\n",
       "    'secondary_color': '#EFF8FA',\n",
       "    'tertiary_color': '#0A7DA3'},\n",
       "   'identity_provider': None,\n",
       "   'enable_audit_enrollment': False,\n",
       "   'replace_sensitive_sso_username': False,\n",
       "   'enable_portal_code_management_screen': False,\n",
       "   'sync_learner_profile_data': False,\n",
       "   'enable_audit_data_reporting': False,\n",
       "   'enable_learner_portal': False,\n",
       "   'enable_portal_reporting_config_screen': False,\n",
       "   'enable_portal_saml_configuration_screen': False,\n",
       "   'contact_email': None,\n",
       "   'enable_portal_subscription_management_screen': False,\n",
       "   'hide_course_original_price': False,\n",
       "   'enable_analytics_screen': False,\n",
       "   'enable_integrated_customer_learner_portal_search': True,\n",
       "   'enable_portal_lms_configurations_screen': False,\n",
       "   'sender_alias': None,\n",
       "   'identity_providers': []},\n",
       "  'active': True,\n",
       "  'user_id': 5,\n",
       "  'user': {'id': 5,\n",
       "   'username': 'sofiane',\n",
       "   'first_name': '',\n",
       "   'last_name': '',\n",
       "   'email': 's.bebert@diceytech.co.uk',\n",
       "   'is_staff': True,\n",
       "   'is_active': True,\n",
       "   'date_joined': '2021-06-08T13:52:10.439336+01:00'},\n",
       "  'data_sharing_consent_records': [],\n",
       "  'groups': []}]"
      ]
     },
     "execution_count": 1,
     "metadata": {},
     "output_type": "execute_result"
    }
   ],
   "source": [
    "from classrooms.apps.api_client.enterprise import EnterpriseApiClient\n",
    "\n",
    "enterprise_client = EnterpriseApiClient()\n",
    "\n",
    "response = enterprise_client.get_enterprise_learners(\n",
    "    customer_uuid=\"35d98c64-842a-49a7-a1f4-8e5d090b57f5\",\n",
    ")\n",
    "\n",
    "response\n"
   ]
  },
  {
   "cell_type": "code",
   "execution_count": 2,
   "id": "950165c3",
   "metadata": {},
   "outputs": [
    {
     "name": "stdout",
     "output_type": "stream",
     "text": [
      "2021-12-23 18:05:40,534 INFO 24 [classrooms.apps.api_client.enterprise] [user None] [ip None] enterprise.py:83 - Create enterprise enrollment for user 3.\n",
      "2021-12-23 18:05:40,540 DEBUG 24 [urllib3.connectionpool] [user None] [ip None] connectionpool.py:227 - Starting new HTTP connection (1): lms:8000\n",
      "2021-12-23 18:05:41,963 DEBUG 24 [urllib3.connectionpool] [user None] [ip None] connectionpool.py:452 - http://lms:8000 \"POST /enterprise/api/v1/enterprise-customer/35d98c64-842a-49a7-a1f4-8e5d090b57f5/course_enrollments/?username=classroom HTTP/1.1\" 200 197\n",
      "2021-12-23 18:05:41,971 INFO 24 [classrooms.apps.api_client.enterprise] [user None] [ip None] enterprise.py:103 - Successfully enrolled user 3 in course course-v1:DiceyTech+EXP003+20211101232637075762.\n",
      "[{'course_run_id': ['The course run id course-v1:DiceyTech+EXP003+20211101232637075762 is not in the catalog for Enterprise Customer Dicey Tech'], 'course_mode': ['\"honor\" is not a valid choice.']}]\n"
     ]
    }
   ],
   "source": [
    "from classrooms.apps.api_client.enterprise import EnterpriseApiClient\n",
    "\n",
    "enterprise_client = EnterpriseApiClient()\n",
    "\n",
    "response = enterprise_client.create_enterprise_enrollment(\n",
    "    school_uuid=\"35d98c64-842a-49a7-a1f4-8e5d090b57f5\",\n",
    "    user_id=3,\n",
    "    course_id=\"course-v1:DiceyTech+EXP003+20211101232637075762\"\n",
    ")\n",
    "\n",
    "print(response.json())"
   ]
  }
 ],
 "metadata": {
  "kernelspec": {
   "display_name": "Django Shell-Plus",
   "language": "python",
   "name": "django_extensions"
  },
  "language_info": {
   "codemirror_mode": {
    "name": "ipython",
    "version": 3
   },
   "file_extension": ".py",
   "mimetype": "text/x-python",
   "name": "python",
   "nbconvert_exporter": "python",
   "pygments_lexer": "ipython3",
   "version": "3.8.10"
  }
 },
 "nbformat": 4,
 "nbformat_minor": 5
}
