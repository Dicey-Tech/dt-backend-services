{
 "cells": [
  {
   "cell_type": "code",
   "execution_count": 8,
   "id": "950165c3",
   "metadata": {},
   "outputs": [
    {
     "name": "stdout",
     "output_type": "stream",
     "text": [
      "2022-03-24 13:24:49,424 DEBUG 26 [urllib3.connectionpool] [user None] [ip None] connectionpool.py:227 - Starting new HTTP connection (1): local.overhang.io:8000\n",
      "2022-03-24 13:24:51,929 DEBUG 26 [urllib3.connectionpool] [user None] [ip None] connectionpool.py:452 - http://local.overhang.io:8000 \"GET /enterprise/api/v1/enterprise-customer/?uuid=e2f7512a-4486-4123-b435-10bedf7d205b HTTP/1.1\" 200 1451\n"
     ]
    }
   ],
   "source": [
    "from urllib.parse import urljoin\n",
    "\n",
    "from learninghub.apps.api_client.base_oauth import BaseOAuthClient\n",
    "from learninghub.apps.api_client.constants import (\n",
    "    ENTERPRISE_COURSE_ENROLLMENT,\n",
    "    ENTERPRISE_CUSTOMER_ENDPOINT,\n",
    "    ENTERPRISE_LEARNER_ENDPOINT,\n",
    "    ENTERPRISE_CATALOG_ENDPOINT,\n",
    ")\n",
    "\n",
    "\n",
    "client = BaseOAuthClient()\n",
    "\n",
    "query_params = {\"uuid\": \"e2f7512a-4486-4123-b435-10bedf7d205b\"}\n",
    "endpoint = urljoin(ENTERPRISE_CATALOG_ENDPOINT, \"e2f7512a-4486-4123-b435-10bedf7d205b/\")\n",
    "\n",
    "response = client.client.get(ENTERPRISE_CUSTOMER_ENDPOINT, params=query_params).json()"
   ]
  },
  {
   "cell_type": "code",
   "execution_count": 9,
   "id": "af7f6424",
   "metadata": {},
   "outputs": [
    {
     "name": "stdout",
     "output_type": "stream",
     "text": [
      "['61445196-bd91-4356-b771-ff81fb9bac6f', '0e359da0-bd46-43e8-b08c-d167d33c76f8']\n"
     ]
    }
   ],
   "source": [
    "results = response.get(\"results\", [])\n",
    "\n",
    "catalog_list = results[0].get(\"enterprise_customer_catalogs\", [])\n",
    "print(catalog_list)"
   ]
  },
  {
   "cell_type": "code",
   "execution_count": 18,
   "id": "8105bc4d",
   "metadata": {},
   "outputs": [
    {
     "name": "stdout",
     "output_type": "stream",
     "text": [
      "2022-03-24 16:24:54,383 DEBUG 26 [urllib3.connectionpool] [user None] [ip None] connectionpool.py:452 - http://local.overhang.io:8000 \"GET /enterprise/api/v1/enterprise_catalogs/61445196-bd91-4356-b771-ff81fb9bac6f/ HTTP/1.1\" 200 13300\n",
      "{'aggregation_key': 'course:DiceyTech+EXP001', 'content_type': 'course', 'full_description': None, 'key': 'DiceyTech+EXP001', 'short_description': None, 'title': 'RPS', 'card_image_url': 'http://local.overhang.io/asset-v1:DiceyTech+EXP001+TEMPLATE+type@asset+block@Rock_Paper_Scissors_Project_Cover.png', 'image_url': 'http://local.overhang.io/asset-v1:DiceyTech+EXP001+TEMPLATE+type@asset+block@Rock_Paper_Scissors_Project_Cover.png', 'course_runs': [{'key': 'course-v1:DiceyTech+EXP001+TEMPLATE', 'enrollment_start': None, 'enrollment_end': None, 'go_live_date': None, 'start': '2030-01-01T00:00:00Z', 'end': None, 'modified': '2021-09-27T10:41:55Z', 'availability': 'Upcoming', 'status': 'published', 'pacing_type': 'instructor_paced', 'enrollment_mode': 'honor', 'min_effort': None, 'max_effort': None, 'weeks_to_complete': None, 'estimated_hours': 0, 'first_enrollable_paid_seat_price': 0.0, 'is_enrollable': True}], 'uuid': '17df0b65-c588-4608-9edc-1fa3fdbcc2d6', 'seat_types': ['honor'], 'skill_names': [], 'skills': [], 'end_date': None, 'course_ends': 'Future', 'subjects': [], 'languages': [], 'organizations': ['DiceyTech: DiceyTech'], 'enrollment_url': 'http://local.overhang.io:8000/enterprise/ea67f297-2821-4e60-bd0e-c9bdbe30ee0e/course/DiceyTech+EXP001/enroll/?catalog=61445196-bd91-4356-b771-ff81fb9bac6f&utm_medium=enterprise&utm_source=dump', 'active': True}\n",
      "{'aggregation_key': 'course:DiceyTech+EXP003', 'content_type': 'course', 'full_description': '', 'key': 'DiceyTech+EXP003', 'short_description': '', 'title': 'Keychain', 'card_image_url': 'http://local.overhang.io/asset-v1:DiceyTech+EXP003+TEMPLATE+type@asset+block@Keychain_Project_Cover.png', 'image_url': 'http://local.overhang.io/asset-v1:DiceyTech+EXP003+TEMPLATE+type@asset+block@Keychain_Project_Cover.png', 'course_runs': [{'key': 'course-v1:DiceyTech+EXP003+TEMPLATE', 'enrollment_start': None, 'enrollment_end': None, 'go_live_date': None, 'start': '2030-01-01T00:00:00Z', 'end': None, 'modified': '2021-09-25T08:17:06Z', 'availability': 'Upcoming', 'status': 'published', 'pacing_type': 'instructor_paced', 'enrollment_mode': 'honor', 'min_effort': None, 'max_effort': None, 'weeks_to_complete': None, 'estimated_hours': 0, 'first_enrollable_paid_seat_price': 0.0, 'is_enrollable': True}], 'uuid': '1d05b386-dec3-4cf5-b674-377a61a82155', 'seat_types': ['honor'], 'skill_names': [], 'skills': [], 'end_date': None, 'course_ends': 'Future', 'subjects': [], 'languages': [], 'organizations': ['DiceyTech: DiceyTech'], 'enrollment_url': 'http://local.overhang.io:8000/enterprise/ea67f297-2821-4e60-bd0e-c9bdbe30ee0e/course/DiceyTech+EXP003/enroll/?catalog=61445196-bd91-4356-b771-ff81fb9bac6f&utm_medium=enterprise&utm_source=dump', 'active': True}\n",
      "{'aggregation_key': 'courserun:DiceyTech+EXP001', 'content_type': 'courserun', 'authoring_organization_uuids': ['16accaa3-d5e2-46b9-9d88-3ad9002f2050'], 'availability': 'Upcoming', 'end': None, 'enrollment_end': None, 'enrollment_start': None, 'first_enrollable_paid_seat_sku': None, 'first_enrollable_paid_seat_price': None, 'full_description': None, 'go_live_date': None, 'has_enrollable_seats': True, 'image_url': 'http://local.overhang.io/asset-v1:DiceyTech+EXP001+TEMPLATE+type@asset+block@Rock_Paper_Scissors_Project_Cover.png', 'is_enrollable': True, 'key': 'course-v1:DiceyTech+EXP001+TEMPLATE', 'language': None, 'level_type': None, 'logo_image_urls': [], 'marketing_url': 'course/rps-course-v1diceytechexp001template?utm_medium=enterprise&utm_source=dump', 'max_effort': None, 'min_effort': None, 'mobile_available': False, 'number': 'EXP001', 'org': 'DiceyTech', 'pacing_type': 'instructor_paced', 'partner': 'openedx', 'program_types': [], 'published': True, 'seat_types': ['honor'], 'skill_names': [], 'skills': [], 'short_description': None, 'staff_uuids': [], 'start': '2030-01-01T00:00:00Z', 'subject_uuids': [], 'title': 'RPS', 'transcript_languages': [], 'type': 'honor', 'weeks_to_complete': None, 'enrollment_url': 'http://local.overhang.io:8000/enterprise/ea67f297-2821-4e60-bd0e-c9bdbe30ee0e/course/course-v1:DiceyTech+EXP001+TEMPLATE/enroll/?catalog=61445196-bd91-4356-b771-ff81fb9bac6f&utm_medium=enterprise&utm_source=dump'}\n",
      "{'aggregation_key': 'courserun:DiceyTech+EXP003', 'content_type': 'courserun', 'authoring_organization_uuids': ['16accaa3-d5e2-46b9-9d88-3ad9002f2050'], 'availability': 'Upcoming', 'end': None, 'enrollment_end': None, 'enrollment_start': None, 'first_enrollable_paid_seat_sku': None, 'first_enrollable_paid_seat_price': None, 'full_description': '', 'go_live_date': None, 'has_enrollable_seats': True, 'image_url': 'http://local.overhang.io/asset-v1:DiceyTech+EXP003+TEMPLATE+type@asset+block@Keychain_Project_Cover.png', 'is_enrollable': True, 'key': 'course-v1:DiceyTech+EXP003+TEMPLATE', 'language': None, 'level_type': None, 'logo_image_urls': [], 'marketing_url': 'course/keychain-course-v1diceytechexp003template?utm_medium=enterprise&utm_source=dump', 'max_effort': None, 'min_effort': None, 'mobile_available': False, 'number': 'EXP003', 'org': 'DiceyTech', 'pacing_type': 'instructor_paced', 'partner': 'dev', 'program_types': [], 'published': True, 'seat_types': ['honor'], 'skill_names': [], 'skills': [], 'short_description': '', 'staff_uuids': [], 'start': '2030-01-01T00:00:00Z', 'subject_uuids': [], 'title': 'Keychain', 'transcript_languages': [], 'type': 'honor', 'weeks_to_complete': None, 'enrollment_url': 'http://local.overhang.io:8000/enterprise/ea67f297-2821-4e60-bd0e-c9bdbe30ee0e/course/course-v1:DiceyTech+EXP003+TEMPLATE/enroll/?catalog=61445196-bd91-4356-b771-ff81fb9bac6f&utm_medium=enterprise&utm_source=dump'}\n",
      "{'aggregation_key': 'course:DiceyTech+DT002', 'content_type': 'course', 'full_description': None, 'key': 'DiceyTech+DT002', 'short_description': None, 'title': 'Intro 2 Rail - Station', 'card_image_url': 'http://local.overhang.io/asset-v1:DiceyTech+DT002+June_2021+type@asset+block@Smart_Alarm_Cover.png', 'image_url': 'http://local.overhang.io/asset-v1:DiceyTech+DT002+June_2021+type@asset+block@Smart_Alarm_Cover.png', 'course_runs': [{'key': 'course-v1:DiceyTech+DT002+June_2021', 'enrollment_start': None, 'enrollment_end': None, 'go_live_date': None, 'start': '2021-06-18T00:00:00Z', 'end': None, 'modified': '2021-09-24T13:17:45Z', 'availability': 'Current', 'status': 'published', 'pacing_type': 'self_paced', 'enrollment_mode': 'honor', 'min_effort': None, 'max_effort': None, 'weeks_to_complete': None, 'estimated_hours': 0, 'first_enrollable_paid_seat_price': 0.0, 'is_enrollable': True}], 'uuid': 'f0e21aa8-6ae2-48e1-bee2-28644ef223ee', 'seat_types': ['honor'], 'skill_names': [], 'skills': [], 'end_date': None, 'course_ends': 'Future', 'subjects': [], 'languages': [], 'organizations': ['DiceyTech: DiceyTech'], 'enrollment_url': 'http://local.overhang.io:8000/enterprise/ea67f297-2821-4e60-bd0e-c9bdbe30ee0e/course/DiceyTech+DT002/enroll/?catalog=61445196-bd91-4356-b771-ff81fb9bac6f&utm_medium=enterprise&utm_source=dump', 'active': True}\n",
      "{'aggregation_key': 'courserun:DiceyTech+DT002', 'content_type': 'courserun', 'authoring_organization_uuids': ['16accaa3-d5e2-46b9-9d88-3ad9002f2050'], 'availability': 'Current', 'end': None, 'enrollment_end': None, 'enrollment_start': None, 'first_enrollable_paid_seat_sku': None, 'first_enrollable_paid_seat_price': None, 'full_description': None, 'go_live_date': None, 'has_enrollable_seats': True, 'image_url': 'http://local.overhang.io/asset-v1:DiceyTech+DT002+June_2021+type@asset+block@Smart_Alarm_Cover.png', 'is_enrollable': True, 'key': 'course-v1:DiceyTech+DT002+June_2021', 'language': None, 'level_type': None, 'logo_image_urls': [], 'marketing_url': 'course/intro-2-rail-station-course-v1diceytechdt002june_2021?utm_medium=enterprise&utm_source=dump', 'max_effort': None, 'min_effort': None, 'mobile_available': False, 'number': 'DT002', 'org': 'DiceyTech', 'pacing_type': 'self_paced', 'partner': 'openedx', 'program_types': [], 'published': True, 'seat_types': ['honor'], 'skill_names': [], 'skills': [], 'short_description': None, 'staff_uuids': [], 'start': '2021-06-18T00:00:00Z', 'subject_uuids': [], 'title': 'Intro 2 Rail - Station', 'transcript_languages': [], 'type': 'honor', 'weeks_to_complete': None, 'enrollment_url': 'http://local.overhang.io:8000/enterprise/ea67f297-2821-4e60-bd0e-c9bdbe30ee0e/course/course-v1:DiceyTech+DT002+June_2021/enroll/?catalog=61445196-bd91-4356-b771-ff81fb9bac6f&utm_medium=enterprise&utm_source=dump'}\n",
      "{'aggregation_key': 'course:DiceyTech+DT001', 'content_type': 'course', 'full_description': None, 'key': 'DiceyTech+DT001', 'short_description': None, 'title': 'CPD Module Template', 'card_image_url': 'http://local.overhang.io/asset-v1:DiceyTech+DT001+June_2021+type@asset+block@images_course_image.jpg', 'image_url': 'http://local.overhang.io/asset-v1:DiceyTech+DT001+June_2021+type@asset+block@images_course_image.jpg', 'course_runs': [{'key': 'course-v1:DiceyTech+DT001+June_2021', 'enrollment_start': None, 'enrollment_end': None, 'go_live_date': None, 'start': '2020-11-11T00:00:00Z', 'end': None, 'modified': '2021-09-24T13:28:53Z', 'availability': 'Current', 'status': 'published', 'pacing_type': 'self_paced', 'enrollment_mode': 'honor', 'min_effort': None, 'max_effort': None, 'weeks_to_complete': None, 'estimated_hours': 0, 'first_enrollable_paid_seat_price': 0.0, 'is_enrollable': True}], 'uuid': 'a3618b23-9a9e-47c4-93b9-39d3a9318a0e', 'seat_types': ['honor'], 'skill_names': [], 'skills': [], 'end_date': None, 'course_ends': 'Future', 'subjects': [], 'languages': [], 'organizations': ['DiceyTech: DiceyTech'], 'enrollment_url': 'http://local.overhang.io:8000/enterprise/ea67f297-2821-4e60-bd0e-c9bdbe30ee0e/course/DiceyTech+DT001/enroll/?catalog=61445196-bd91-4356-b771-ff81fb9bac6f&utm_medium=enterprise&utm_source=dump', 'active': True}\n",
      "{'aggregation_key': 'courserun:DiceyTech+DT001', 'content_type': 'courserun', 'authoring_organization_uuids': ['16accaa3-d5e2-46b9-9d88-3ad9002f2050'], 'availability': 'Current', 'end': None, 'enrollment_end': None, 'enrollment_start': None, 'first_enrollable_paid_seat_sku': None, 'first_enrollable_paid_seat_price': None, 'full_description': None, 'go_live_date': None, 'has_enrollable_seats': True, 'image_url': 'http://local.overhang.io/asset-v1:DiceyTech+DT001+June_2021+type@asset+block@images_course_image.jpg', 'is_enrollable': True, 'key': 'course-v1:DiceyTech+DT001+June_2021', 'language': None, 'level_type': None, 'logo_image_urls': [], 'marketing_url': 'course/cpd-module-template-course-v1diceytechdt001june_2021?utm_medium=enterprise&utm_source=dump', 'max_effort': None, 'min_effort': None, 'mobile_available': False, 'number': 'DT001', 'org': 'DiceyTech', 'pacing_type': 'self_paced', 'partner': 'openedx', 'program_types': [], 'published': True, 'seat_types': ['honor'], 'skill_names': [], 'skills': [], 'short_description': None, 'staff_uuids': [], 'start': '2020-11-11T00:00:00Z', 'subject_uuids': [], 'title': 'CPD Module Template', 'transcript_languages': [], 'type': 'honor', 'weeks_to_complete': None, 'enrollment_url': 'http://local.overhang.io:8000/enterprise/ea67f297-2821-4e60-bd0e-c9bdbe30ee0e/course/course-v1:DiceyTech+DT001+June_2021/enroll/?catalog=61445196-bd91-4356-b771-ff81fb9bac6f&utm_medium=enterprise&utm_source=dump'}\n",
      "{'aggregation_key': 'course:DiceyTech+RC001', 'content_type': 'course', 'full_description': None, 'key': 'DiceyTech+RC001', 'short_description': None, 'title': 'Relative Dates', 'card_image_url': 'http://local.overhang.io/asset-v1:DiceyTech+RC001+2020+type@asset+block@images_course_image.jpg', 'image_url': 'http://local.overhang.io/asset-v1:DiceyTech+RC001+2020+type@asset+block@images_course_image.jpg', 'course_runs': [{'key': 'course-v1:DiceyTech+RC001+2020', 'enrollment_start': None, 'enrollment_end': None, 'go_live_date': None, 'start': '2030-01-01T00:00:00Z', 'end': None, 'modified': '2021-08-11T06:26:42Z', 'availability': 'Upcoming', 'status': 'published', 'pacing_type': 'instructor_paced', 'enrollment_mode': None, 'min_effort': None, 'max_effort': None, 'weeks_to_complete': None, 'estimated_hours': 0, 'first_enrollable_paid_seat_price': 0.0, 'is_enrollable': True}, {'key': 'course-v1:DiceyTech+RC001+V1', 'enrollment_start': None, 'enrollment_end': None, 'go_live_date': None, 'start': '2021-02-14T00:00:00Z', 'end': None, 'modified': '2021-08-11T06:26:42Z', 'availability': 'Current', 'status': 'published', 'pacing_type': 'self_paced', 'enrollment_mode': None, 'min_effort': None, 'max_effort': None, 'weeks_to_complete': None, 'estimated_hours': 0, 'first_enrollable_paid_seat_price': 0.0, 'is_enrollable': True}], 'uuid': '6d9b6124-4417-469d-8aa8-a18e2e0aed25', 'seat_types': [], 'skill_names': [], 'skills': [], 'end_date': None, 'course_ends': 'Future', 'subjects': [], 'languages': [], 'organizations': ['DiceyTech: DiceyTech'], 'enrollment_url': 'http://local.overhang.io:8000/enterprise/ea67f297-2821-4e60-bd0e-c9bdbe30ee0e/course/DiceyTech+RC001/enroll/?catalog=61445196-bd91-4356-b771-ff81fb9bac6f&utm_medium=enterprise&utm_source=dump', 'active': True}\n",
      "{'aggregation_key': 'course:Test+T001', 'content_type': 'course', 'full_description': None, 'key': 'Test+T001', 'short_description': None, 'title': 'Test Course', 'card_image_url': 'http://local.overhang.io/asset-v1:Test+T001+2020_T4+type@asset+block@images_course_image.jpg', 'image_url': 'http://local.overhang.io/asset-v1:Test+T001+2020_T4+type@asset+block@images_course_image.jpg', 'course_runs': [], 'uuid': '03ddc6b9-95af-45de-8959-e75f0ccdfcd2', 'seat_types': [], 'skill_names': [], 'skills': [], 'end_date': None, 'course_ends': 'Past', 'subjects': [], 'languages': [], 'organizations': ['Test: '], 'enrollment_url': 'http://local.overhang.io:8000/enterprise/ea67f297-2821-4e60-bd0e-c9bdbe30ee0e/course/Test+T001/enroll/?catalog=61445196-bd91-4356-b771-ff81fb9bac6f&utm_medium=enterprise&utm_source=dump', 'active': False}\n"
     ]
    },
    {
     "name": "stdout",
     "output_type": "stream",
     "text": [
      "2022-03-24 16:24:56,834 DEBUG 26 [urllib3.connectionpool] [user None] [ip None] connectionpool.py:452 - http://local.overhang.io:8000 \"GET /enterprise/api/v1/enterprise_catalogs/0e359da0-bd46-43e8-b08c-d167d33c76f8/ HTTP/1.1\" 200 1574\n",
      "{'aggregation_key': 'courserun:DiceyTech+EXP001', 'content_type': 'courserun', 'authoring_organization_uuids': ['16accaa3-d5e2-46b9-9d88-3ad9002f2050'], 'availability': 'Upcoming', 'end': None, 'enrollment_end': None, 'enrollment_start': None, 'first_enrollable_paid_seat_sku': None, 'first_enrollable_paid_seat_price': None, 'full_description': None, 'go_live_date': None, 'has_enrollable_seats': True, 'image_url': 'http://local.overhang.io/asset-v1:DiceyTech+EXP001+TEMPLATE+type@asset+block@Rock_Paper_Scissors_Project_Cover.png', 'is_enrollable': True, 'key': 'course-v1:DiceyTech+EXP001+TEMPLATE', 'language': None, 'level_type': None, 'logo_image_urls': [], 'marketing_url': 'course/rps-course-v1diceytechexp001template?utm_medium=enterprise&utm_source=dicey-tech-dev', 'max_effort': None, 'min_effort': None, 'mobile_available': False, 'number': 'EXP001', 'org': 'DiceyTech', 'pacing_type': 'instructor_paced', 'partner': 'openedx', 'program_types': [], 'published': True, 'seat_types': ['honor'], 'skill_names': [], 'skills': [], 'short_description': None, 'staff_uuids': [], 'start': '2030-01-01T00:00:00Z', 'subject_uuids': [], 'title': 'RPS', 'transcript_languages': [], 'type': 'honor', 'weeks_to_complete': None, 'enrollment_url': 'http://local.overhang.io:8000/enterprise/e2f7512a-4486-4123-b435-10bedf7d205b/course/course-v1:DiceyTech+EXP001+TEMPLATE/enroll/?catalog=0e359da0-bd46-43e8-b08c-d167d33c76f8&utm_medium=enterprise&utm_source=dicey-tech-dev'}\n"
     ]
    }
   ],
   "source": [
    "for catalog in catalog_list:\n",
    "    endpoint = urljoin(ENTERPRISE_CATALOG_ENDPOINT, f\"{catalog}/\")\n",
    "    response = client.client.get(endpoint).json()\n",
    "    results = response.get(\"results\", [])\n",
    "    \n",
    "    for result in results:\n",
    "        print(result)"
   ]
  },
  {
   "cell_type": "code",
   "execution_count": 13,
   "id": "0000340f",
   "metadata": {},
   "outputs": [
    {
     "name": "stdout",
     "output_type": "stream",
     "text": [
      "2022-03-24 13:28:44,860 DEBUG 26 [urllib3.connectionpool] [user None] [ip None] connectionpool.py:227 - Starting new HTTP connection (1): local.overhang.io:8000\n",
      "2022-03-24 13:28:47,799 DEBUG 26 [urllib3.connectionpool] [user None] [ip None] connectionpool.py:452 - http://local.overhang.io:8000 \"GET /enterprise/api/v1/enterprise-customer/?uuid=e2f7512a-4486-4123-b435-10bedf7d205b HTTP/1.1\" 200 1461\n",
      "2022-03-24 13:28:52,002 DEBUG 26 [urllib3.connectionpool] [user None] [ip None] connectionpool.py:452 - http://local.overhang.io:8000 \"GET /enterprise/api/v1/enterprise_catalogs/61445196-bd91-4356-b771-ff81fb9bac6f/ HTTP/1.1\" 200 13440\n",
      "2022-03-24 13:28:54,527 DEBUG 26 [urllib3.connectionpool] [user None] [ip None] connectionpool.py:452 - http://local.overhang.io:8000 \"GET /enterprise/api/v1/enterprise_catalogs/0e359da0-bd46-43e8-b08c-d167d33c76f8/ HTTP/1.1\" 200 1574\n"
     ]
    },
    {
     "data": {
      "text/plain": [
       "['DiceyTech+EXP001',\n",
       " 'DiceyTech+EXP003',\n",
       " 'course-v1:DiceyTech+EXP001+TEMPLATE',\n",
       " 'course-v1:DiceyTech+EXP003+TEMPLATE',\n",
       " 'DiceyTech+DT002',\n",
       " 'course-v1:DiceyTech+DT002+June_2021',\n",
       " 'DiceyTech+DT001',\n",
       " 'course-v1:DiceyTech+DT001+June_2021',\n",
       " 'DiceyTech+RC001',\n",
       " 'Test+T001',\n",
       " 'course-v1:DiceyTech+EXP001+TEMPLATE']"
      ]
     },
     "execution_count": 13,
     "metadata": {},
     "output_type": "execute_result"
    }
   ],
   "source": [
    "from learninghub.apps.api_client.enterprise import EnterpriseApiClient\n",
    "\n",
    "DiceyTech = \"35d98c64-842a-49a7-a1f4-8e5d090b57f5\"\n",
    "DiceyTechDev = \"e2f7512a-4486-4123-b435-10bedf7d205b\"\n",
    "\n",
    "client = EnterpriseApiClient()\n",
    "\n",
    "#client.get_enterprise_customer(DiceyTechDev)\n",
    "client.get_course_list(DiceyTechDev)"
   ]
  },
  {
   "cell_type": "code",
   "execution_count": 17,
   "id": "52409710",
   "metadata": {},
   "outputs": [
    {
     "name": "stdout",
     "output_type": "stream",
     "text": [
      "2022-03-24 16:21:53,853 INFO 26 [learninghub.apps.api_client.discovery] [user None] [ip None] discovery.py:75 - Get course list for catalogs ['Starter Pack', 'Creator Pack', 'Maker Pack']\n",
      "2022-03-24 16:21:53,862 DEBUG 26 [urllib3.connectionpool] [user None] [ip None] connectionpool.py:227 - Starting new HTTP connection (1): discovery:8381\n",
      "2022-03-24 16:21:54,487 DEBUG 26 [urllib3.connectionpool] [user None] [ip None] connectionpool.py:452 - http://discovery:8381 \"GET /api/v1/catalogs/ HTTP/1.1\" 200 329\n",
      "2022-03-24 16:21:54,489 INFO 26 [learninghub.apps.api_client.discovery] [user None] [ip None] discovery.py:79 - Response: {'count': 3, 'next': None, 'previous': None, 'results': [{'id': 1, 'name': 'Starter Pack', 'query': 'key:EXP*', 'courses_count': 2, 'viewers': ['classroom']}, {'id': 2, 'name': 'Creator Pack', 'query': 'key:TIER1*', 'courses_count': 0, 'viewers': ['classroom']}, {'id': 3, 'name': 'Maker Pack', 'query': 'key:TIER2*', 'courses_count': 0, 'viewers': ['classroom']}]}\n",
      "2022-03-24 16:21:54,550 DEBUG 26 [urllib3.connectionpool] [user None] [ip None] connectionpool.py:452 - http://discovery:8381 \"GET /api/v1/catalogs/1/courses HTTP/1.1\" 301 0\n",
      "2022-03-24 16:21:55,688 DEBUG 26 [urllib3.connectionpool] [user None] [ip None] connectionpool.py:452 - http://discovery:8381 \"GET /api/v1/catalogs/1/courses/ HTTP/1.1\" 200 5671\n",
      "2022-03-24 16:21:55,690 DEBUG 26 [learninghub.apps.api_client.discovery] [user None] [ip None] discovery.py:98 - Found 2 courses.\n"
     ]
    },
    {
     "data": {
      "text/plain": [
       "[{'key': 'course-v1:DiceyTech+EXP001+TEMPLATE',\n",
       "  'uuid': 'ee27844d-fd85-46eb-ae6a-fff649094ab1',\n",
       "  'title': 'RPS',\n",
       "  'external_key': None,\n",
       "  'image': {'src': 'http://local.overhang.io/asset-v1:DiceyTech+EXP001+TEMPLATE+type@asset+block@Rock_Paper_Scissors_Project_Cover.png',\n",
       "   'description': None,\n",
       "   'height': None,\n",
       "   'width': None},\n",
       "  'short_description': None,\n",
       "  'marketing_url': 'course/rps-course-v1diceytechexp001template?utm_source=classroom&utm_medium=affiliate_partner',\n",
       "  'seats': [{'type': 'honor',\n",
       "    'price': '0.00',\n",
       "    'currency': 'USD',\n",
       "    'upgrade_deadline': None,\n",
       "    'upgrade_deadline_override': None,\n",
       "    'credit_provider': None,\n",
       "    'credit_hours': None,\n",
       "    'sku': 'A947FB2',\n",
       "    'bulk_sku': None}],\n",
       "  'start': '2030-01-01T00:00:00Z',\n",
       "  'end': None,\n",
       "  'go_live_date': None,\n",
       "  'enrollment_start': None,\n",
       "  'enrollment_end': None,\n",
       "  'pacing_type': 'instructor_paced',\n",
       "  'type': 'honor',\n",
       "  'run_type': '1cfaba8e-16c2-4342-addd-4937b38c05ce',\n",
       "  'status': 'published',\n",
       "  'is_enrollable': True,\n",
       "  'is_marketable': True,\n",
       "  'course': 'DiceyTech+EXP001',\n",
       "  'full_description': None,\n",
       "  'announcement': None,\n",
       "  'video': None,\n",
       "  'content_language': None,\n",
       "  'license': '',\n",
       "  'outcome': None,\n",
       "  'transcript_languages': [],\n",
       "  'instructors': [],\n",
       "  'staff': [],\n",
       "  'min_effort': None,\n",
       "  'max_effort': None,\n",
       "  'weeks_to_complete': None,\n",
       "  'modified': '2021-09-27T10:41:55.233173Z',\n",
       "  'level_type': None,\n",
       "  'availability': 'Upcoming',\n",
       "  'mobile_available': False,\n",
       "  'hidden': False,\n",
       "  'reporting_type': 'mooc',\n",
       "  'eligible_for_financial_aid': True,\n",
       "  'first_enrollable_paid_seat_price': None,\n",
       "  'has_ofac_restrictions': None,\n",
       "  'ofac_comment': '',\n",
       "  'enrollment_count': 0,\n",
       "  'recent_enrollment_count': 0,\n",
       "  'expected_program_type': None,\n",
       "  'expected_program_name': '',\n",
       "  'course_uuid': '17df0b65-c588-4608-9edc-1fa3fdbcc2d6',\n",
       "  'estimated_hours': 0,\n",
       "  'content_language_search_facet_name': None},\n",
       " {'key': 'course-v1:DiceyTech+EXP003+TEMPLATE',\n",
       "  'uuid': '53f5c93a-384e-4b00-aaed-2225f5d0c4ce',\n",
       "  'title': 'Keychain',\n",
       "  'external_key': None,\n",
       "  'image': {'src': 'http://local.overhang.io/asset-v1:DiceyTech+EXP003+TEMPLATE+type@asset+block@Keychain_Project_Cover.png',\n",
       "   'description': None,\n",
       "   'height': None,\n",
       "   'width': None},\n",
       "  'short_description': '',\n",
       "  'marketing_url': 'course/keychain-course-v1diceytechexp003template?utm_source=classroom&utm_medium=affiliate_partner',\n",
       "  'seats': [{'type': 'honor',\n",
       "    'price': '0.00',\n",
       "    'currency': 'USD',\n",
       "    'upgrade_deadline': None,\n",
       "    'upgrade_deadline_override': None,\n",
       "    'credit_provider': None,\n",
       "    'credit_hours': None,\n",
       "    'sku': '67CC09C',\n",
       "    'bulk_sku': None}],\n",
       "  'start': '2030-01-01T00:00:00Z',\n",
       "  'end': None,\n",
       "  'go_live_date': None,\n",
       "  'enrollment_start': None,\n",
       "  'enrollment_end': None,\n",
       "  'pacing_type': 'instructor_paced',\n",
       "  'type': 'honor',\n",
       "  'run_type': '1cfaba8e-16c2-4342-addd-4937b38c05ce',\n",
       "  'status': 'published',\n",
       "  'is_enrollable': True,\n",
       "  'is_marketable': True,\n",
       "  'course': 'DiceyTech+EXP003',\n",
       "  'full_description': '',\n",
       "  'announcement': None,\n",
       "  'video': None,\n",
       "  'content_language': None,\n",
       "  'license': '',\n",
       "  'outcome': '',\n",
       "  'transcript_languages': [],\n",
       "  'instructors': [],\n",
       "  'staff': [],\n",
       "  'min_effort': None,\n",
       "  'max_effort': None,\n",
       "  'weeks_to_complete': None,\n",
       "  'modified': '2021-09-25T08:17:06.307608Z',\n",
       "  'level_type': None,\n",
       "  'availability': 'Upcoming',\n",
       "  'mobile_available': False,\n",
       "  'hidden': False,\n",
       "  'reporting_type': 'mooc',\n",
       "  'eligible_for_financial_aid': True,\n",
       "  'first_enrollable_paid_seat_price': None,\n",
       "  'has_ofac_restrictions': None,\n",
       "  'ofac_comment': '',\n",
       "  'enrollment_count': 0,\n",
       "  'recent_enrollment_count': 0,\n",
       "  'expected_program_type': None,\n",
       "  'expected_program_name': '',\n",
       "  'course_uuid': '1d05b386-dec3-4cf5-b674-377a61a82155',\n",
       "  'estimated_hours': 0,\n",
       "  'content_language_search_facet_name': None}]"
      ]
     },
     "execution_count": 17,
     "metadata": {},
     "output_type": "execute_result"
    }
   ],
   "source": [
    "from learninghub.apps.api_client.discovery import DiscoveryApiClient\n",
    "\n",
    "discovery = DiscoveryApiClient()\n",
    "\n",
    "discovery.get_course_list()"
   ]
  }
 ],
 "metadata": {
  "kernelspec": {
   "display_name": "Django Shell-Plus",
   "language": "python",
   "name": "django_extensions"
  },
  "language_info": {
   "codemirror_mode": {
    "name": "ipython",
    "version": 3
   },
   "file_extension": ".py",
   "mimetype": "text/x-python",
   "name": "python",
   "nbconvert_exporter": "python",
   "pygments_lexer": "ipython3",
   "version": "3.8.10"
  }
 },
 "nbformat": 4,
 "nbformat_minor": 5
}
