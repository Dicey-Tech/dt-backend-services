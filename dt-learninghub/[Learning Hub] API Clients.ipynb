{
 "cells": [
  {
   "cell_type": "code",
   "execution_count": 26,
   "id": "950165c3",
   "metadata": {},
   "outputs": [
    {
     "name": "stdout",
     "output_type": "stream",
     "text": [
      "2022-03-22 16:50:01,533 DEBUG 26 [urllib3.connectionpool] [user None] [ip None] connectionpool.py:227 - Starting new HTTP connection (1): local.overhang.io:8000\n",
      "2022-03-22 16:50:02,619 DEBUG 26 [urllib3.connectionpool] [user None] [ip None] connectionpool.py:452 - http://local.overhang.io:8000 \"GET /enterprise/api/v1/enterprise-customer/?uuid=35d98c64-842a-49a7-a1f4-8e5d090b57f5 HTTP/1.1\" 200 1726\n"
     ]
    }
   ],
   "source": [
    "from urllib.parse import urljoin\n",
    "\n",
    "from learninghub.apps.api_client.base_oauth import BaseOAuthClient\n",
    "from learninghub.apps.api_client.constants import (\n",
    "    ENTERPRISE_COURSE_ENROLLMENT,\n",
    "    ENTERPRISE_CUSTOMER_ENDPOINT,\n",
    "    ENTERPRISE_LEARNER_ENDPOINT,\n",
    "    ENTERPRISE_CATALOG_ENDPOINT,\n",
    ")\n",
    "\n",
    "\n",
    "client = BaseOAuthClient()\n",
    "\n",
    "query_params = {\"uuid\": \"35d98c64-842a-49a7-a1f4-8e5d090b57f5\"}\n",
    "endpoint = urljoin(ENTERPRISE_CATALOG_ENDPOINT, \"3f864d7e-8a84-4489-923f-e7c6de043d2a/\")\n",
    "\n",
    "response = client.client.get(ENTERPRISE_CUSTOMER_ENDPOINT, params=query_params).json()"
   ]
  },
  {
   "cell_type": "code",
   "execution_count": 31,
   "id": "af7f6424",
   "metadata": {},
   "outputs": [
    {
     "name": "stdout",
     "output_type": "stream",
     "text": [
      "['3f864d7e-8a84-4489-923f-e7c6de043d2a', '9d2db69f-ea9a-49c0-8682-817ce4017a8b', 'ea5572bd-b98a-43bf-ba7f-badea20e9d56', '219c13a5-f752-411e-bb12-e18de4a8696d', 'e986bf50-8c4c-47f9-9392-4b24c2259336', '49a850e5-0af6-4121-9a22-433a465533e7', '7f7618b6-9909-4ab8-b124-2ac12ce2f25b', 'ffba1900-f488-4c16-954b-035b71e7499a', 'cc675679-024d-4900-b36f-6d3ce2c60669']\n"
     ]
    }
   ],
   "source": [
    "results = response.get(\"results\", [])\n",
    "\n",
    "catalog_list = results[0].get(\"enterprise_customer_catalogs\", [])\n",
    "print(catalog_list)"
   ]
  },
  {
   "cell_type": "code",
   "execution_count": 33,
   "id": "8105bc4d",
   "metadata": {},
   "outputs": [
    {
     "name": "stdout",
     "output_type": "stream",
     "text": [
      "2022-03-22 16:56:20,910 DEBUG 26 [urllib3.connectionpool] [user None] [ip None] connectionpool.py:452 - http://local.overhang.io:8000 \"GET /enterprise/api/v1/enterprise_catalogs/3f864d7e-8a84-4489-923f-e7c6de043d2a/ HTTP/1.1\" 200 13384\n",
      "DiceyTech+EXP001\n",
      "DiceyTech+EXP003\n",
      "course-v1:DiceyTech+EXP001+TEMPLATE\n",
      "course-v1:DiceyTech+EXP003+TEMPLATE\n",
      "DiceyTech+DT002\n",
      "course-v1:DiceyTech+DT002+June_2021\n",
      "DiceyTech+DT001\n",
      "course-v1:DiceyTech+DT001+June_2021\n",
      "DiceyTech+RC001\n",
      "Test+T001\n",
      "2022-03-22 16:56:23,377 DEBUG 26 [urllib3.connectionpool] [user None] [ip None] connectionpool.py:452 - http://local.overhang.io:8000 \"GET /enterprise/api/v1/enterprise_catalogs/9d2db69f-ea9a-49c0-8682-817ce4017a8b/ HTTP/1.1\" 200 13384\n",
      "DiceyTech+EXP001\n",
      "DiceyTech+EXP003\n",
      "course-v1:DiceyTech+EXP001+TEMPLATE\n",
      "course-v1:DiceyTech+EXP003+TEMPLATE\n",
      "DiceyTech+DT002\n",
      "course-v1:DiceyTech+DT002+June_2021\n",
      "DiceyTech+DT001\n",
      "course-v1:DiceyTech+DT001+June_2021\n",
      "DiceyTech+RC001\n",
      "Test+T001\n",
      "2022-03-22 16:56:24,565 DEBUG 26 [urllib3.connectionpool] [user None] [ip None] connectionpool.py:452 - http://local.overhang.io:8000 \"GET /enterprise/api/v1/enterprise_catalogs/ea5572bd-b98a-43bf-ba7f-badea20e9d56/ HTTP/1.1\" 200 13384\n",
      "DiceyTech+EXP001\n",
      "DiceyTech+EXP003\n",
      "course-v1:DiceyTech+EXP001+TEMPLATE\n",
      "course-v1:DiceyTech+EXP003+TEMPLATE\n",
      "DiceyTech+DT002\n",
      "course-v1:DiceyTech+DT002+June_2021\n",
      "DiceyTech+DT001\n",
      "course-v1:DiceyTech+DT001+June_2021\n",
      "DiceyTech+RC001\n",
      "Test+T001\n",
      "2022-03-22 16:56:27,440 DEBUG 26 [urllib3.connectionpool] [user None] [ip None] connectionpool.py:452 - http://local.overhang.io:8000 \"GET /enterprise/api/v1/enterprise_catalogs/219c13a5-f752-411e-bb12-e18de4a8696d/ HTTP/1.1\" 200 13384\n",
      "DiceyTech+EXP001\n",
      "DiceyTech+EXP003\n",
      "course-v1:DiceyTech+EXP001+TEMPLATE\n",
      "course-v1:DiceyTech+EXP003+TEMPLATE\n",
      "DiceyTech+DT002\n",
      "course-v1:DiceyTech+DT002+June_2021\n",
      "DiceyTech+DT001\n",
      "course-v1:DiceyTech+DT001+June_2021\n",
      "DiceyTech+RC001\n",
      "Test+T001\n",
      "2022-03-22 16:56:28,578 DEBUG 26 [urllib3.connectionpool] [user None] [ip None] connectionpool.py:452 - http://local.overhang.io:8000 \"GET /enterprise/api/v1/enterprise_catalogs/e986bf50-8c4c-47f9-9392-4b24c2259336/ HTTP/1.1\" 200 13384\n",
      "DiceyTech+EXP001\n",
      "DiceyTech+EXP003\n",
      "course-v1:DiceyTech+EXP001+TEMPLATE\n",
      "course-v1:DiceyTech+EXP003+TEMPLATE\n",
      "DiceyTech+DT002\n",
      "course-v1:DiceyTech+DT002+June_2021\n",
      "DiceyTech+DT001\n",
      "course-v1:DiceyTech+DT001+June_2021\n",
      "DiceyTech+RC001\n",
      "Test+T001\n",
      "2022-03-22 16:56:31,371 DEBUG 26 [urllib3.connectionpool] [user None] [ip None] connectionpool.py:452 - http://local.overhang.io:8000 \"GET /enterprise/api/v1/enterprise_catalogs/49a850e5-0af6-4121-9a22-433a465533e7/ HTTP/1.1\" 200 13384\n",
      "DiceyTech+EXP001\n",
      "DiceyTech+EXP003\n",
      "course-v1:DiceyTech+EXP001+TEMPLATE\n",
      "course-v1:DiceyTech+EXP003+TEMPLATE\n",
      "DiceyTech+DT002\n",
      "course-v1:DiceyTech+DT002+June_2021\n",
      "DiceyTech+DT001\n",
      "course-v1:DiceyTech+DT001+June_2021\n",
      "DiceyTech+RC001\n",
      "Test+T001\n",
      "2022-03-22 16:56:32,583 DEBUG 26 [urllib3.connectionpool] [user None] [ip None] connectionpool.py:452 - http://local.overhang.io:8000 \"GET /enterprise/api/v1/enterprise_catalogs/7f7618b6-9909-4ab8-b124-2ac12ce2f25b/ HTTP/1.1\" 200 13384\n",
      "DiceyTech+EXP001\n",
      "DiceyTech+EXP003\n",
      "course-v1:DiceyTech+EXP001+TEMPLATE\n",
      "course-v1:DiceyTech+EXP003+TEMPLATE\n",
      "DiceyTech+DT002\n",
      "course-v1:DiceyTech+DT002+June_2021\n",
      "DiceyTech+DT001\n",
      "course-v1:DiceyTech+DT001+June_2021\n",
      "DiceyTech+RC001\n",
      "Test+T001\n",
      "2022-03-22 16:56:35,306 DEBUG 26 [urllib3.connectionpool] [user None] [ip None] connectionpool.py:452 - http://local.overhang.io:8000 \"GET /enterprise/api/v1/enterprise_catalogs/ffba1900-f488-4c16-954b-035b71e7499a/ HTTP/1.1\" 200 13384\n",
      "DiceyTech+EXP001\n",
      "DiceyTech+EXP003\n",
      "course-v1:DiceyTech+EXP001+TEMPLATE\n",
      "course-v1:DiceyTech+EXP003+TEMPLATE\n",
      "DiceyTech+DT002\n",
      "course-v1:DiceyTech+DT002+June_2021\n",
      "DiceyTech+DT001\n",
      "course-v1:DiceyTech+DT001+June_2021\n",
      "DiceyTech+RC001\n",
      "Test+T001\n",
      "2022-03-22 16:56:36,827 DEBUG 26 [urllib3.connectionpool] [user None] [ip None] connectionpool.py:452 - http://local.overhang.io:8000 \"GET /enterprise/api/v1/enterprise_catalogs/cc675679-024d-4900-b36f-6d3ce2c60669/ HTTP/1.1\" 200 13384\n",
      "DiceyTech+EXP001\n",
      "DiceyTech+EXP003\n",
      "course-v1:DiceyTech+EXP001+TEMPLATE\n",
      "course-v1:DiceyTech+EXP003+TEMPLATE\n",
      "DiceyTech+DT002\n",
      "course-v1:DiceyTech+DT002+June_2021\n",
      "DiceyTech+DT001\n",
      "course-v1:DiceyTech+DT001+June_2021\n",
      "DiceyTech+RC001\n",
      "Test+T001\n"
     ]
    }
   ],
   "source": [
    "for catalog in catalog_list:\n",
    "    endpoint = urljoin(ENTERPRISE_CATALOG_ENDPOINT, f\"{catalog}/\")\n",
    "    response = client.client.get(endpoint).json()\n",
    "    results = response.get(\"results\", [])\n",
    "    \n",
    "    for result in results:\n",
    "        print(result.get(\"key\", \"\"))\n",
    "    "
   ]
  }
 ],
 "metadata": {
  "kernelspec": {
   "display_name": "Django Shell-Plus",
   "language": "python",
   "name": "django_extensions"
  },
  "language_info": {
   "codemirror_mode": {
    "name": "ipython",
    "version": 3
   },
   "file_extension": ".py",
   "mimetype": "text/x-python",
   "name": "python",
   "nbconvert_exporter": "python",
   "pygments_lexer": "ipython3",
   "version": "3.8.10"
  }
 },
 "nbformat": 4,
 "nbformat_minor": 5
}
