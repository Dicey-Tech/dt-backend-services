{
 "cells": [
  {
   "cell_type": "code",
   "execution_count": 4,
   "id": "950165c3",
   "metadata": {},
   "outputs": [],
   "source": [
    "from urllib.parse import urljoin\n",
    "\n",
    "from learninghub.apps.api_client.base_oauth import BaseOAuthClient\n",
    "from learninghub.apps.api_client.constants import (\n",
    "    ENTERPRISE_COURSE_ENROLLMENT,\n",
    "    ENTERPRISE_CUSTOMER_ENDPOINT,\n",
    "    ENTERPRISE_LEARNER_ENDPOINT,\n",
    "    ENTERPRISE_CATALOG_ENDPOINT,\n",
    ")\n",
    "\n",
    "\n",
    "#client = BaseOAuthClient()\n",
    "\n",
    "query_params = {\"uuid\": \"e2f7512a-4486-4123-b435-10bedf7d205b\"}\n",
    "endpoint = urljoin(ENTERPRISE_CATALOG_ENDPOINT, \"e2f7512a-4486-4123-b435-10bedf7d205b/\")\n",
    "\n",
    "#response = client.client.get(ENTERPRISE_CUSTOMER_ENDPOINT, params=query_params).json()"
   ]
  },
  {
   "cell_type": "code",
   "execution_count": 9,
   "id": "af7f6424",
   "metadata": {},
   "outputs": [
    {
     "name": "stdout",
     "output_type": "stream",
     "text": [
      "['61445196-bd91-4356-b771-ff81fb9bac6f', '0e359da0-bd46-43e8-b08c-d167d33c76f8']\n"
     ]
    }
   ],
   "source": [
    "#results = response.get(\"results\", [])\n",
    "\n",
    "#catalog_list = results[0].get(\"enterprise_customer_catalogs\", [])\n",
    "#print(catalog_list)"
   ]
  },
  {
   "cell_type": "code",
   "execution_count": 18,
   "id": "8105bc4d",
   "metadata": {},
   "outputs": [
    {
     "name": "stdout",
     "output_type": "stream",
     "text": [
      "2022-03-24 16:24:54,383 DEBUG 26 [urllib3.connectionpool] [user None] [ip None] connectionpool.py:452 - http://local.overhang.io:8000 \"GET /enterprise/api/v1/enterprise_catalogs/61445196-bd91-4356-b771-ff81fb9bac6f/ HTTP/1.1\" 200 13300\n",
      "{'aggregation_key': 'course:DiceyTech+EXP001', 'content_type': 'course', 'full_description': None, 'key': 'DiceyTech+EXP001', 'short_description': None, 'title': 'RPS', 'card_image_url': 'http://local.overhang.io/asset-v1:DiceyTech+EXP001+TEMPLATE+type@asset+block@Rock_Paper_Scissors_Project_Cover.png', 'image_url': 'http://local.overhang.io/asset-v1:DiceyTech+EXP001+TEMPLATE+type@asset+block@Rock_Paper_Scissors_Project_Cover.png', 'course_runs': [{'key': 'course-v1:DiceyTech+EXP001+TEMPLATE', 'enrollment_start': None, 'enrollment_end': None, 'go_live_date': None, 'start': '2030-01-01T00:00:00Z', 'end': None, 'modified': '2021-09-27T10:41:55Z', 'availability': 'Upcoming', 'status': 'published', 'pacing_type': 'instructor_paced', 'enrollment_mode': 'honor', 'min_effort': None, 'max_effort': None, 'weeks_to_complete': None, 'estimated_hours': 0, 'first_enrollable_paid_seat_price': 0.0, 'is_enrollable': True}], 'uuid': '17df0b65-c588-4608-9edc-1fa3fdbcc2d6', 'seat_types': ['honor'], 'skill_names': [], 'skills': [], 'end_date': None, 'course_ends': 'Future', 'subjects': [], 'languages': [], 'organizations': ['DiceyTech: DiceyTech'], 'enrollment_url': 'http://local.overhang.io:8000/enterprise/ea67f297-2821-4e60-bd0e-c9bdbe30ee0e/course/DiceyTech+EXP001/enroll/?catalog=61445196-bd91-4356-b771-ff81fb9bac6f&utm_medium=enterprise&utm_source=dump', 'active': True}\n",
      "{'aggregation_key': 'course:DiceyTech+EXP003', 'content_type': 'course', 'full_description': '', 'key': 'DiceyTech+EXP003', 'short_description': '', 'title': 'Keychain', 'card_image_url': 'http://local.overhang.io/asset-v1:DiceyTech+EXP003+TEMPLATE+type@asset+block@Keychain_Project_Cover.png', 'image_url': 'http://local.overhang.io/asset-v1:DiceyTech+EXP003+TEMPLATE+type@asset+block@Keychain_Project_Cover.png', 'course_runs': [{'key': 'course-v1:DiceyTech+EXP003+TEMPLATE', 'enrollment_start': None, 'enrollment_end': None, 'go_live_date': None, 'start': '2030-01-01T00:00:00Z', 'end': None, 'modified': '2021-09-25T08:17:06Z', 'availability': 'Upcoming', 'status': 'published', 'pacing_type': 'instructor_paced', 'enrollment_mode': 'honor', 'min_effort': None, 'max_effort': None, 'weeks_to_complete': None, 'estimated_hours': 0, 'first_enrollable_paid_seat_price': 0.0, 'is_enrollable': True}], 'uuid': '1d05b386-dec3-4cf5-b674-377a61a82155', 'seat_types': ['honor'], 'skill_names': [], 'skills': [], 'end_date': None, 'course_ends': 'Future', 'subjects': [], 'languages': [], 'organizations': ['DiceyTech: DiceyTech'], 'enrollment_url': 'http://local.overhang.io:8000/enterprise/ea67f297-2821-4e60-bd0e-c9bdbe30ee0e/course/DiceyTech+EXP003/enroll/?catalog=61445196-bd91-4356-b771-ff81fb9bac6f&utm_medium=enterprise&utm_source=dump', 'active': True}\n",
      "{'aggregation_key': 'courserun:DiceyTech+EXP001', 'content_type': 'courserun', 'authoring_organization_uuids': ['16accaa3-d5e2-46b9-9d88-3ad9002f2050'], 'availability': 'Upcoming', 'end': None, 'enrollment_end': None, 'enrollment_start': None, 'first_enrollable_paid_seat_sku': None, 'first_enrollable_paid_seat_price': None, 'full_description': None, 'go_live_date': None, 'has_enrollable_seats': True, 'image_url': 'http://local.overhang.io/asset-v1:DiceyTech+EXP001+TEMPLATE+type@asset+block@Rock_Paper_Scissors_Project_Cover.png', 'is_enrollable': True, 'key': 'course-v1:DiceyTech+EXP001+TEMPLATE', 'language': None, 'level_type': None, 'logo_image_urls': [], 'marketing_url': 'course/rps-course-v1diceytechexp001template?utm_medium=enterprise&utm_source=dump', 'max_effort': None, 'min_effort': None, 'mobile_available': False, 'number': 'EXP001', 'org': 'DiceyTech', 'pacing_type': 'instructor_paced', 'partner': 'openedx', 'program_types': [], 'published': True, 'seat_types': ['honor'], 'skill_names': [], 'skills': [], 'short_description': None, 'staff_uuids': [], 'start': '2030-01-01T00:00:00Z', 'subject_uuids': [], 'title': 'RPS', 'transcript_languages': [], 'type': 'honor', 'weeks_to_complete': None, 'enrollment_url': 'http://local.overhang.io:8000/enterprise/ea67f297-2821-4e60-bd0e-c9bdbe30ee0e/course/course-v1:DiceyTech+EXP001+TEMPLATE/enroll/?catalog=61445196-bd91-4356-b771-ff81fb9bac6f&utm_medium=enterprise&utm_source=dump'}\n",
      "{'aggregation_key': 'courserun:DiceyTech+EXP003', 'content_type': 'courserun', 'authoring_organization_uuids': ['16accaa3-d5e2-46b9-9d88-3ad9002f2050'], 'availability': 'Upcoming', 'end': None, 'enrollment_end': None, 'enrollment_start': None, 'first_enrollable_paid_seat_sku': None, 'first_enrollable_paid_seat_price': None, 'full_description': '', 'go_live_date': None, 'has_enrollable_seats': True, 'image_url': 'http://local.overhang.io/asset-v1:DiceyTech+EXP003+TEMPLATE+type@asset+block@Keychain_Project_Cover.png', 'is_enrollable': True, 'key': 'course-v1:DiceyTech+EXP003+TEMPLATE', 'language': None, 'level_type': None, 'logo_image_urls': [], 'marketing_url': 'course/keychain-course-v1diceytechexp003template?utm_medium=enterprise&utm_source=dump', 'max_effort': None, 'min_effort': None, 'mobile_available': False, 'number': 'EXP003', 'org': 'DiceyTech', 'pacing_type': 'instructor_paced', 'partner': 'dev', 'program_types': [], 'published': True, 'seat_types': ['honor'], 'skill_names': [], 'skills': [], 'short_description': '', 'staff_uuids': [], 'start': '2030-01-01T00:00:00Z', 'subject_uuids': [], 'title': 'Keychain', 'transcript_languages': [], 'type': 'honor', 'weeks_to_complete': None, 'enrollment_url': 'http://local.overhang.io:8000/enterprise/ea67f297-2821-4e60-bd0e-c9bdbe30ee0e/course/course-v1:DiceyTech+EXP003+TEMPLATE/enroll/?catalog=61445196-bd91-4356-b771-ff81fb9bac6f&utm_medium=enterprise&utm_source=dump'}\n",
      "{'aggregation_key': 'course:DiceyTech+DT002', 'content_type': 'course', 'full_description': None, 'key': 'DiceyTech+DT002', 'short_description': None, 'title': 'Intro 2 Rail - Station', 'card_image_url': 'http://local.overhang.io/asset-v1:DiceyTech+DT002+June_2021+type@asset+block@Smart_Alarm_Cover.png', 'image_url': 'http://local.overhang.io/asset-v1:DiceyTech+DT002+June_2021+type@asset+block@Smart_Alarm_Cover.png', 'course_runs': [{'key': 'course-v1:DiceyTech+DT002+June_2021', 'enrollment_start': None, 'enrollment_end': None, 'go_live_date': None, 'start': '2021-06-18T00:00:00Z', 'end': None, 'modified': '2021-09-24T13:17:45Z', 'availability': 'Current', 'status': 'published', 'pacing_type': 'self_paced', 'enrollment_mode': 'honor', 'min_effort': None, 'max_effort': None, 'weeks_to_complete': None, 'estimated_hours': 0, 'first_enrollable_paid_seat_price': 0.0, 'is_enrollable': True}], 'uuid': 'f0e21aa8-6ae2-48e1-bee2-28644ef223ee', 'seat_types': ['honor'], 'skill_names': [], 'skills': [], 'end_date': None, 'course_ends': 'Future', 'subjects': [], 'languages': [], 'organizations': ['DiceyTech: DiceyTech'], 'enrollment_url': 'http://local.overhang.io:8000/enterprise/ea67f297-2821-4e60-bd0e-c9bdbe30ee0e/course/DiceyTech+DT002/enroll/?catalog=61445196-bd91-4356-b771-ff81fb9bac6f&utm_medium=enterprise&utm_source=dump', 'active': True}\n",
      "{'aggregation_key': 'courserun:DiceyTech+DT002', 'content_type': 'courserun', 'authoring_organization_uuids': ['16accaa3-d5e2-46b9-9d88-3ad9002f2050'], 'availability': 'Current', 'end': None, 'enrollment_end': None, 'enrollment_start': None, 'first_enrollable_paid_seat_sku': None, 'first_enrollable_paid_seat_price': None, 'full_description': None, 'go_live_date': None, 'has_enrollable_seats': True, 'image_url': 'http://local.overhang.io/asset-v1:DiceyTech+DT002+June_2021+type@asset+block@Smart_Alarm_Cover.png', 'is_enrollable': True, 'key': 'course-v1:DiceyTech+DT002+June_2021', 'language': None, 'level_type': None, 'logo_image_urls': [], 'marketing_url': 'course/intro-2-rail-station-course-v1diceytechdt002june_2021?utm_medium=enterprise&utm_source=dump', 'max_effort': None, 'min_effort': None, 'mobile_available': False, 'number': 'DT002', 'org': 'DiceyTech', 'pacing_type': 'self_paced', 'partner': 'openedx', 'program_types': [], 'published': True, 'seat_types': ['honor'], 'skill_names': [], 'skills': [], 'short_description': None, 'staff_uuids': [], 'start': '2021-06-18T00:00:00Z', 'subject_uuids': [], 'title': 'Intro 2 Rail - Station', 'transcript_languages': [], 'type': 'honor', 'weeks_to_complete': None, 'enrollment_url': 'http://local.overhang.io:8000/enterprise/ea67f297-2821-4e60-bd0e-c9bdbe30ee0e/course/course-v1:DiceyTech+DT002+June_2021/enroll/?catalog=61445196-bd91-4356-b771-ff81fb9bac6f&utm_medium=enterprise&utm_source=dump'}\n",
      "{'aggregation_key': 'course:DiceyTech+DT001', 'content_type': 'course', 'full_description': None, 'key': 'DiceyTech+DT001', 'short_description': None, 'title': 'CPD Module Template', 'card_image_url': 'http://local.overhang.io/asset-v1:DiceyTech+DT001+June_2021+type@asset+block@images_course_image.jpg', 'image_url': 'http://local.overhang.io/asset-v1:DiceyTech+DT001+June_2021+type@asset+block@images_course_image.jpg', 'course_runs': [{'key': 'course-v1:DiceyTech+DT001+June_2021', 'enrollment_start': None, 'enrollment_end': None, 'go_live_date': None, 'start': '2020-11-11T00:00:00Z', 'end': None, 'modified': '2021-09-24T13:28:53Z', 'availability': 'Current', 'status': 'published', 'pacing_type': 'self_paced', 'enrollment_mode': 'honor', 'min_effort': None, 'max_effort': None, 'weeks_to_complete': None, 'estimated_hours': 0, 'first_enrollable_paid_seat_price': 0.0, 'is_enrollable': True}], 'uuid': 'a3618b23-9a9e-47c4-93b9-39d3a9318a0e', 'seat_types': ['honor'], 'skill_names': [], 'skills': [], 'end_date': None, 'course_ends': 'Future', 'subjects': [], 'languages': [], 'organizations': ['DiceyTech: DiceyTech'], 'enrollment_url': 'http://local.overhang.io:8000/enterprise/ea67f297-2821-4e60-bd0e-c9bdbe30ee0e/course/DiceyTech+DT001/enroll/?catalog=61445196-bd91-4356-b771-ff81fb9bac6f&utm_medium=enterprise&utm_source=dump', 'active': True}\n",
      "{'aggregation_key': 'courserun:DiceyTech+DT001', 'content_type': 'courserun', 'authoring_organization_uuids': ['16accaa3-d5e2-46b9-9d88-3ad9002f2050'], 'availability': 'Current', 'end': None, 'enrollment_end': None, 'enrollment_start': None, 'first_enrollable_paid_seat_sku': None, 'first_enrollable_paid_seat_price': None, 'full_description': None, 'go_live_date': None, 'has_enrollable_seats': True, 'image_url': 'http://local.overhang.io/asset-v1:DiceyTech+DT001+June_2021+type@asset+block@images_course_image.jpg', 'is_enrollable': True, 'key': 'course-v1:DiceyTech+DT001+June_2021', 'language': None, 'level_type': None, 'logo_image_urls': [], 'marketing_url': 'course/cpd-module-template-course-v1diceytechdt001june_2021?utm_medium=enterprise&utm_source=dump', 'max_effort': None, 'min_effort': None, 'mobile_available': False, 'number': 'DT001', 'org': 'DiceyTech', 'pacing_type': 'self_paced', 'partner': 'openedx', 'program_types': [], 'published': True, 'seat_types': ['honor'], 'skill_names': [], 'skills': [], 'short_description': None, 'staff_uuids': [], 'start': '2020-11-11T00:00:00Z', 'subject_uuids': [], 'title': 'CPD Module Template', 'transcript_languages': [], 'type': 'honor', 'weeks_to_complete': None, 'enrollment_url': 'http://local.overhang.io:8000/enterprise/ea67f297-2821-4e60-bd0e-c9bdbe30ee0e/course/course-v1:DiceyTech+DT001+June_2021/enroll/?catalog=61445196-bd91-4356-b771-ff81fb9bac6f&utm_medium=enterprise&utm_source=dump'}\n",
      "{'aggregation_key': 'course:DiceyTech+RC001', 'content_type': 'course', 'full_description': None, 'key': 'DiceyTech+RC001', 'short_description': None, 'title': 'Relative Dates', 'card_image_url': 'http://local.overhang.io/asset-v1:DiceyTech+RC001+2020+type@asset+block@images_course_image.jpg', 'image_url': 'http://local.overhang.io/asset-v1:DiceyTech+RC001+2020+type@asset+block@images_course_image.jpg', 'course_runs': [{'key': 'course-v1:DiceyTech+RC001+2020', 'enrollment_start': None, 'enrollment_end': None, 'go_live_date': None, 'start': '2030-01-01T00:00:00Z', 'end': None, 'modified': '2021-08-11T06:26:42Z', 'availability': 'Upcoming', 'status': 'published', 'pacing_type': 'instructor_paced', 'enrollment_mode': None, 'min_effort': None, 'max_effort': None, 'weeks_to_complete': None, 'estimated_hours': 0, 'first_enrollable_paid_seat_price': 0.0, 'is_enrollable': True}, {'key': 'course-v1:DiceyTech+RC001+V1', 'enrollment_start': None, 'enrollment_end': None, 'go_live_date': None, 'start': '2021-02-14T00:00:00Z', 'end': None, 'modified': '2021-08-11T06:26:42Z', 'availability': 'Current', 'status': 'published', 'pacing_type': 'self_paced', 'enrollment_mode': None, 'min_effort': None, 'max_effort': None, 'weeks_to_complete': None, 'estimated_hours': 0, 'first_enrollable_paid_seat_price': 0.0, 'is_enrollable': True}], 'uuid': '6d9b6124-4417-469d-8aa8-a18e2e0aed25', 'seat_types': [], 'skill_names': [], 'skills': [], 'end_date': None, 'course_ends': 'Future', 'subjects': [], 'languages': [], 'organizations': ['DiceyTech: DiceyTech'], 'enrollment_url': 'http://local.overhang.io:8000/enterprise/ea67f297-2821-4e60-bd0e-c9bdbe30ee0e/course/DiceyTech+RC001/enroll/?catalog=61445196-bd91-4356-b771-ff81fb9bac6f&utm_medium=enterprise&utm_source=dump', 'active': True}\n",
      "{'aggregation_key': 'course:Test+T001', 'content_type': 'course', 'full_description': None, 'key': 'Test+T001', 'short_description': None, 'title': 'Test Course', 'card_image_url': 'http://local.overhang.io/asset-v1:Test+T001+2020_T4+type@asset+block@images_course_image.jpg', 'image_url': 'http://local.overhang.io/asset-v1:Test+T001+2020_T4+type@asset+block@images_course_image.jpg', 'course_runs': [], 'uuid': '03ddc6b9-95af-45de-8959-e75f0ccdfcd2', 'seat_types': [], 'skill_names': [], 'skills': [], 'end_date': None, 'course_ends': 'Past', 'subjects': [], 'languages': [], 'organizations': ['Test: '], 'enrollment_url': 'http://local.overhang.io:8000/enterprise/ea67f297-2821-4e60-bd0e-c9bdbe30ee0e/course/Test+T001/enroll/?catalog=61445196-bd91-4356-b771-ff81fb9bac6f&utm_medium=enterprise&utm_source=dump', 'active': False}\n"
     ]
    },
    {
     "name": "stdout",
     "output_type": "stream",
     "text": [
      "2022-03-24 16:24:56,834 DEBUG 26 [urllib3.connectionpool] [user None] [ip None] connectionpool.py:452 - http://local.overhang.io:8000 \"GET /enterprise/api/v1/enterprise_catalogs/0e359da0-bd46-43e8-b08c-d167d33c76f8/ HTTP/1.1\" 200 1574\n",
      "{'aggregation_key': 'courserun:DiceyTech+EXP001', 'content_type': 'courserun', 'authoring_organization_uuids': ['16accaa3-d5e2-46b9-9d88-3ad9002f2050'], 'availability': 'Upcoming', 'end': None, 'enrollment_end': None, 'enrollment_start': None, 'first_enrollable_paid_seat_sku': None, 'first_enrollable_paid_seat_price': None, 'full_description': None, 'go_live_date': None, 'has_enrollable_seats': True, 'image_url': 'http://local.overhang.io/asset-v1:DiceyTech+EXP001+TEMPLATE+type@asset+block@Rock_Paper_Scissors_Project_Cover.png', 'is_enrollable': True, 'key': 'course-v1:DiceyTech+EXP001+TEMPLATE', 'language': None, 'level_type': None, 'logo_image_urls': [], 'marketing_url': 'course/rps-course-v1diceytechexp001template?utm_medium=enterprise&utm_source=dicey-tech-dev', 'max_effort': None, 'min_effort': None, 'mobile_available': False, 'number': 'EXP001', 'org': 'DiceyTech', 'pacing_type': 'instructor_paced', 'partner': 'openedx', 'program_types': [], 'published': True, 'seat_types': ['honor'], 'skill_names': [], 'skills': [], 'short_description': None, 'staff_uuids': [], 'start': '2030-01-01T00:00:00Z', 'subject_uuids': [], 'title': 'RPS', 'transcript_languages': [], 'type': 'honor', 'weeks_to_complete': None, 'enrollment_url': 'http://local.overhang.io:8000/enterprise/e2f7512a-4486-4123-b435-10bedf7d205b/course/course-v1:DiceyTech+EXP001+TEMPLATE/enroll/?catalog=0e359da0-bd46-43e8-b08c-d167d33c76f8&utm_medium=enterprise&utm_source=dicey-tech-dev'}\n"
     ]
    }
   ],
   "source": [
    "for catalog in catalog_list:\n",
    "    endpoint = urljoin(ENTERPRISE_CATALOG_ENDPOINT, f\"{catalog}/\")\n",
    "    response = client.client.get(endpoint).json()\n",
    "    results = response.get(\"results\", [])\n",
    "    \n",
    "    for result in results:\n",
    "        print(result)"
   ]
  },
  {
   "cell_type": "code",
   "execution_count": 5,
   "id": "0000340f",
   "metadata": {},
   "outputs": [],
   "source": [
    "from learninghub.apps.api_client.enterprise import EnterpriseApiClient\n",
    "\n",
    "DiceyTech = \"35d98c64-842a-49a7-a1f4-8e5d090b57f5\"\n",
    "DiceyTechDev = \"e2f7512a-4486-4123-b435-10bedf7d205b\"\n",
    "\n",
    "client = EnterpriseApiClient()\n",
    "\n",
    "#client.get_enterprise_customer(DiceyTechDev)\n",
    "\n",
    "#client.get_course_list(DiceyTechDev)"
   ]
  },
  {
   "cell_type": "code",
   "execution_count": 7,
   "id": "262150fd",
   "metadata": {},
   "outputs": [
    {
     "name": "stdout",
     "output_type": "stream",
     "text": [
      "2022-03-24 20:09:42,153 DEBUG 34 [urllib3.connectionpool] [user None] [ip None] connectionpool.py:227 - Starting new HTTP connection (1): local.overhang.io:8000\n",
      "2022-03-24 20:09:45,269 DEBUG 34 [urllib3.connectionpool] [user None] [ip None] connectionpool.py:452 - http://local.overhang.io:8000 \"POST /enterprise/api/v1/enterprise-customer/35d98c64-842a-49a7-a1f4-8e5d090b57f5/course_enrollments/ HTTP/1.1\" 200 197\n"
     ]
    },
    {
     "ename": "AttributeError",
     "evalue": "'Response' object has no attribute 'data'",
     "output_type": "error",
     "traceback": [
      "\u001b[0;31m---------------------------------------------------------------------------\u001b[0m",
      "\u001b[0;31mAttributeError\u001b[0m                            Traceback (most recent call last)",
      "Input \u001b[0;32mIn [7]\u001b[0m, in \u001b[0;36m<cell line: 21>\u001b[0;34m()\u001b[0m\n\u001b[1;32m     15\u001b[0m client \u001b[38;5;241m=\u001b[39m EnterpriseApiClient()\n\u001b[1;32m     16\u001b[0m response \u001b[38;5;241m=\u001b[39m client\u001b[38;5;241m.\u001b[39mclient\u001b[38;5;241m.\u001b[39mpost(\n\u001b[1;32m     17\u001b[0m     endpoint, \n\u001b[1;32m     18\u001b[0m     json\u001b[38;5;241m=\u001b[39mdata,\n\u001b[1;32m     19\u001b[0m )\n\u001b[0;32m---> 21\u001b[0m \u001b[38;5;28mprint\u001b[39m(\u001b[43mresponse\u001b[49m\u001b[38;5;241;43m.\u001b[39;49m\u001b[43mdata\u001b[49m)\n",
      "\u001b[0;31mAttributeError\u001b[0m: 'Response' object has no attribute 'data'"
     ]
    }
   ],
   "source": [
    "import json\n",
    "from urllib.parse import urljoin\n",
    "\n",
    "endpoint = urljoin(ENTERPRISE_CUSTOMER_ENDPOINT, DiceyTech + \"/course_enrollments/\")\n",
    "\n",
    "data = [{\n",
    "    \"lms_user_id\": 3,\n",
    "    \"course_run_id\": \"course-v1:DiceyTech+EXP003+20220324194815993584\",\n",
    "    \"course_mode\": \"honor\",\n",
    "    'email_students': True,\n",
    "    \"is_active\": True,\n",
    "}]\n",
    "\n",
    "# set active to false to unenroll\n",
    "client = EnterpriseApiClient()\n",
    "response = client.client.post(\n",
    "    endpoint, \n",
    "    json=data,\n",
    ")\n",
    "\n",
    "print(response.data)"
   ]
  }
 ],
 "metadata": {
  "kernelspec": {
   "display_name": "Django Shell-Plus",
   "language": "python",
   "name": "django_extensions"
  },
  "language_info": {
   "codemirror_mode": {
    "name": "ipython",
    "version": 3
   },
   "file_extension": ".py",
   "mimetype": "text/x-python",
   "name": "python",
   "nbconvert_exporter": "python",
   "pygments_lexer": "ipython3",
   "version": "3.8.10"
  }
 },
 "nbformat": 4,
 "nbformat_minor": 5
}
